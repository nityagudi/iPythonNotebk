{
 "cells": [
  {
   "cell_type": "markdown",
   "metadata": {},
   "source": [
    "# Welcome to my Python Book !"
   ]
  },
  {
   "cell_type": "markdown",
   "metadata": {},
   "source": [
    "> Before I start, I would like to thank Mr.Raghavan Kripakaran for encouraging me to write this notebook \n",
    "\n",
    "** *A simple approach to Python* **\n",
    "\n",
    "This notebook is a reflection of my notes which I had penned when I started learning Python.It has been put up here as a guide for beginners and as a revision guide for python coders.I will be happy if readers contribute to this material.\n",
    "\n",
    "** *Some background* **\n",
    "* Python was created by Guido Van Rossum.Its a language that was born in the 80's but first appeared in the year 1991,wow its as old as me!:P\n",
    "* It is a high level object oriented language but has a structure such that helps one code with fewer lines,in other words I can say,its a compact way of coding.\n",
    "* You can type the code on python line by line and get the output line-wise.This is the interactive way of coding,the other method is called scripting,where in you write a piece of code on a text editor and then run the python file\n",
    "* All Python codes are saved with a .py extension\n",
    "* Python does not require an explicit compiler \n",
    "\n",
    "** *so lets begin.....* **\n"
   ]
  },
  {
   "cell_type": "markdown",
   "metadata": {},
   "source": [
    "** *Guideline to setup python environment* **\n",
    "\n",
    "There are two versions of python currently being used,series of Python 2.x and Python 3.x\n",
    "\n",
    "know these differences\n",
    "* **Print:** In Python 2.x, “print” is treated like a statement & there is no need of parentheses whereas in Python 3.x “print” is a function that is you need to write the statement within parenthesis\n",
    "* **Division:** In Python 2.x if you have no decimal in the digit it will be treated as an integer & will not give appropriate results incase of division most of the times. Example: 5/2 gives result 2 instead of 2.5 . To get the exact result the programmer should know that 5.0/2.0 gives 2.5 .Python 3.x has no such issues and evaluates 5 / 2 as 2.5 which is conventional for the programmers\n",
    "* **Loop Variables:** In previous versions of python iterating a variable with the same name as that of a global variable caused the global variable to change.This bug has been fixed in Python 3, hence a variable you already used in the loop can be used in the other parts of the code with the loop affecting the code\n",
    "* **Unicode Strings:** * Python 2.x uses ASCII format to store strings whereas Python3 stores strings as Unicode by default.In python you can store the string in unicode by adding \"u\" \n",
    "* **Raising exceptions:** The syntax for raising exceptions differs in these versions.In Python 3: raise IOError(“your error message”)\n",
    "whereas in Python 2.x: raise IOError, “your error message”\n",
    "\n",
    "There are many more differences...Python 3.x is said to be slightly faster than Python 2.x\n",
    "\n",
    "** *Python Setup* **\n",
    "* To set up the python environment please click [here](https://docs.python.org/2/using/index.html)\n"
   ]
  },
  {
   "cell_type": "markdown",
   "metadata": {},
   "source": [
    "** *What makes Python 'The coding Language' to learn...* **\n",
    "* Easy to pick up quickly as it has a simple structure with a syntax that is clear as writing sentences in English\n",
    "* Interpred & Interactive Language: You need not compile your code!It is processed at the runtime by the interpreter.You can interact with the python promt directly to execute instruction by instruction\n",
    "* Has a wide range of standard libraries with are cross platform compatible and portable\n",
    "* Object-Oriented nature of pyton lets you encapsulate your code within objects.Python can be easily integrated with     C,C++ and Java\n",
    "* Supports wide range from application development to gaming,browsers & simple text processing.It also supports all     the major databases\n",
    "* Supports automatic Garbadge collection where in the memory occupied by objects no longer in use is reclaimed which     is nothing but dellocation of memory and returning it back to the system"
   ]
  },
  {
   "cell_type": "markdown",
   "metadata": {},
   "source": [
    "** *Naming convention* **\n",
    "1. Python is case sensitive\n",
    "2. Always name a variable such that it starts with a letter or a underscore\n",
    "\n"
   ]
  },
  {
   "cell_type": "code",
   "execution_count": 28,
   "metadata": {
    "collapsed": false
   },
   "outputs": [
    {
     "name": "stdout",
     "output_type": "stream",
     "text": [
      "hello Python\n"
     ]
    }
   ],
   "source": [
    "#My first program in Python (comments in python are followed by a '#' sign)\n",
    "print(\"hello Python\")"
   ]
  },
  {
   "cell_type": "code",
   "execution_count": 29,
   "metadata": {
    "collapsed": false
   },
   "outputs": [
    {
     "name": "stdout",
     "output_type": "stream",
     "text": [
      "a: 2\n",
      "b: 3\n"
     ]
    }
   ],
   "source": [
    "#Initializing and printing variables\n",
    "a=2\n",
    "b=3\n",
    "print(\"a:\",a)\n",
    "print(\"b:\",b)"
   ]
  },
  {
   "cell_type": "code",
   "execution_count": 30,
   "metadata": {
    "collapsed": false
   },
   "outputs": [
    {
     "name": "stdout",
     "output_type": "stream",
     "text": [
      "Current value: 2\n",
      "Updated value: 4\n"
     ]
    }
   ],
   "source": [
    "#Updating a variable\n",
    "x=2\n",
    "print(\"Current value:\",x)\n",
    "x=x+2\n",
    "print(\"Updated value:\",x)"
   ]
  },
  {
   "cell_type": "code",
   "execution_count": 31,
   "metadata": {
    "collapsed": false,
    "scrolled": true
   },
   "outputs": [
    {
     "name": "stdout",
     "output_type": "stream",
     "text": [
      "Sum: 4\n",
      "Difference: 0\n",
      "Product: 4\n",
      "a^b(a raised to b): 4\n",
      "Division: 2.0\n",
      "Remainder: 0.0\n",
      "Division: 0.99\n",
      "When c=99.0,division= 0.99\n"
     ]
    }
   ],
   "source": [
    "#some Math\n",
    "a=2\n",
    "b=2\n",
    "print(\"Sum:\",a+b)\n",
    "print(\"Difference:\",a-b)\n",
    "print(\"Product:\",a*b)\n",
    "print(\"a^b(a raised to b):\",a**b)\n",
    "a=4.0 #This will give answer in decimal points\n",
    "b=2\n",
    "print(\"Division:\",a/b)\n",
    "print(\"Remainder:\",a%b)\n",
    "\n",
    "#carefully observe the outputs of the example below\n",
    "c=99\n",
    "d=100\n",
    "print(\"Division:\",c/d)\n",
    "\n",
    "c=99.0\n",
    " \n",
    "print(\"When c=99.0,division=\",c/d)\n"
   ]
  },
  {
   "cell_type": "code",
   "execution_count": 32,
   "metadata": {
    "collapsed": false
   },
   "outputs": [
    {
     "name": "stdout",
     "output_type": "stream",
     "text": [
      "Enter side of a square:5\n",
      "Area: 25\n",
      "Perimeter: 20\n"
     ]
    }
   ],
   "source": [
    "#Getting Input from user and performing operations\n",
    "#Lets calculate the area and perimeter of square depending on the value entered by a user\n",
    "\n",
    "a=input(\"Enter side of a square:\")\n",
    "a=int(a)\n",
    "area=a*a\n",
    "peri=4*a\n",
    "print(\"Area:\",area)\n",
    "print(\"Perimeter:\",peri)"
   ]
  },
  {
   "cell_type": "code",
   "execution_count": 33,
   "metadata": {
    "collapsed": false,
    "scrolled": true
   },
   "outputs": [
    {
     "name": "stdout",
     "output_type": "stream",
     "text": [
      "abc123\n",
      "ABC ABC ABC ABC ABC \n"
     ]
    }
   ],
   "source": [
    "#operators on strings\n",
    "#Concatenation\n",
    "print(\"abc\"+\"123\")\n",
    "#Multiplier\n",
    "print(\"ABC \"*5)"
   ]
  },
  {
   "cell_type": "code",
   "execution_count": 34,
   "metadata": {
    "collapsed": false
   },
   "outputs": [
    {
     "name": "stdout",
     "output_type": "stream",
     "text": [
      "Age: 5\n",
      "Name Nitya\n"
     ]
    }
   ],
   "source": [
    "#A sequential Statements\n",
    "#This example depicts sequential execution of instructions in python\n",
    "age=5\n",
    "name=\"Nitya\"\n",
    "print(\"Age:\",age)\n",
    "print(\"Name\",name)"
   ]
  },
  {
   "cell_type": "markdown",
   "metadata": {},
   "source": [
    "**Comparison operators in Python**\n",
    "* <    (Less than operator)\n",
    "* <=   (Less than equal to)\n",
    "* ==   (is equal to)\n",
    "* \\>=   (Greater than Equal to)\n",
    "* \\>    (Greater than)\n",
    "* !=   (not equal)"
   ]
  },
  {
   "cell_type": "code",
   "execution_count": 35,
   "metadata": {
    "collapsed": false
   },
   "outputs": [
    {
     "name": "stdout",
     "output_type": "stream",
     "text": [
      "Nitya is older than 5\n"
     ]
    }
   ],
   "source": [
    "#Conditional statements\n",
    "age=14\n",
    "if age<5:\n",
    "    print(\"Nitya is below 5\")\n",
    "elif age==5:\n",
    "    print(\"Nitya is 5 yrs old\")\n",
    "else:\n",
    "    print(\"Nitya is older than 5\")"
   ]
  },
  {
   "cell_type": "code",
   "execution_count": 36,
   "metadata": {
    "collapsed": false
   },
   "outputs": [
    {
     "name": "stdout",
     "output_type": "stream",
     "text": [
      "HelloPython\n"
     ]
    }
   ],
   "source": [
    "#declaring strings\n",
    "h=\"Hello\"\n",
    "a=\"Python\"\n",
    "\n",
    "#To concatenate strings we use '+'\n",
    "print (h+a)\n",
    "\n",
    "#Concatenating string with integer gives error---->print h+1\n"
   ]
  },
  {
   "cell_type": "markdown",
   "metadata": {},
   "source": [
    "To add a space,include a space in the string..."
   ]
  },
  {
   "cell_type": "code",
   "execution_count": 37,
   "metadata": {
    "collapsed": false,
    "scrolled": true
   },
   "outputs": [
    {
     "name": "stdout",
     "output_type": "stream",
     "text": [
      "Hello Python\n"
     ]
    }
   ],
   "source": [
    "print(\"Hello\"+\" Python\")\n"
   ]
  },
  {
   "cell_type": "markdown",
   "metadata": {},
   "source": [
    "** *Type* **....\n",
    "\n",
    "It is important to know the type of data you are working on,we can use the keyword 'type' to know "
   ]
  },
  {
   "cell_type": "code",
   "execution_count": 38,
   "metadata": {
    "collapsed": false,
    "scrolled": true
   },
   "outputs": [
    {
     "name": "stdout",
     "output_type": "stream",
     "text": [
      "<class 'str'>\n",
      "<class 'int'>\n"
     ]
    }
   ],
   "source": [
    "str=\"I am a string\"\n",
    "a=10\n",
    "print(type(str))\n",
    "print(type(a))"
   ]
  },
  {
   "cell_type": "code",
   "execution_count": 39,
   "metadata": {
    "collapsed": false
   },
   "outputs": [
    {
     "name": "stdout",
     "output_type": "stream",
     "text": [
      "a is of type: <class 'str'>\n",
      "a is now of type <class 'int'>\n"
     ]
    }
   ],
   "source": [
    "#Can convert types of data\n",
    "a='1'\n",
    "print(\"a is of type:\",type(a))\n",
    "str2=int(a)\n",
    "print(\"a is now of type\",type(str2))"
   ]
  },
  {
   "cell_type": "code",
   "execution_count": 40,
   "metadata": {
    "collapsed": false
   },
   "outputs": [
    {
     "ename": "TypeError",
     "evalue": "Can't convert 'int' object to str implicitly",
     "output_type": "error",
     "traceback": [
      "\u001b[0;31m---------------------------------------------------------------------------\u001b[0m",
      "\u001b[0;31mTypeError\u001b[0m                                 Traceback (most recent call last)",
      "\u001b[0;32m<ipython-input-40-992416445726>\u001b[0m in \u001b[0;36m<module>\u001b[0;34m()\u001b[0m\n\u001b[1;32m      4\u001b[0m \u001b[0mw\u001b[0m\u001b[0;34m=\u001b[0m\u001b[0;36m3\u001b[0m\u001b[0;34m\u001b[0m\u001b[0m\n\u001b[1;32m      5\u001b[0m \u001b[0;34m\u001b[0m\u001b[0m\n\u001b[0;32m----> 6\u001b[0;31m \u001b[0mprint\u001b[0m\u001b[0;34m(\u001b[0m\u001b[0ms\u001b[0m\u001b[0;34m+\u001b[0m\u001b[0mw\u001b[0m\u001b[0;34m)\u001b[0m\u001b[0;34m\u001b[0m\u001b[0m\n\u001b[0m",
      "\u001b[0;31mTypeError\u001b[0m: Can't convert 'int' object to str implicitly"
     ]
    }
   ],
   "source": [
    "#Cannot add a string and number,will return a traceback error\n",
    "\n",
    "s=\"hello\"\n",
    "w=3\n",
    "\n",
    "print(s+w)"
   ]
  },
  {
   "cell_type": "markdown",
   "metadata": {},
   "source": [
    "**How to deal with traceback?**\n",
    "\n",
    "*Error thrown in python is called a traceback error.A traceback error can be handelled using try-except.Always put the execution part in the try block and if anything goes wrong the exception should be caught in the except part of the code*"
   ]
  },
  {
   "cell_type": "code",
   "execution_count": null,
   "metadata": {
    "collapsed": false
   },
   "outputs": [],
   "source": [
    "string1=\"Good\"\n",
    "a=1\n",
    "b=2\n",
    "try:\n",
    "    sum=a+b\n",
    "    print(\"This is try block\")\n",
    "except:\n",
    "    print(\"exception caught\")"
   ]
  },
  {
   "cell_type": "markdown",
   "metadata": {},
   "source": [
    "*Try executes...so exception not caught,now lets catch an exception*"
   ]
  },
  {
   "cell_type": "code",
   "execution_count": null,
   "metadata": {
    "collapsed": false
   },
   "outputs": [],
   "source": [
    "string1=\"Good\"\n",
    "\n",
    "try:\n",
    "    sum=string1+1\n",
    "    print(\"This is try block\")\n",
    "except:\n",
    "    print(\"exception caught\")"
   ]
  },
  {
   "cell_type": "markdown",
   "metadata": {
    "raw_mimetype": "text/html"
   },
   "source": [
    "*You can also catch the exception in a variable and print it by adding the except block as shown below.This somehow is not working here.I assume its due to the version compatibility so I will print out the output of the program using my python interpreter which runs version 3*\n",
    "\n",
    "**except Exception,e:**\n",
    "\n",
    "    print \"Error msg:\",str(e) \n",
    "    \n",
    "---------------------------------------------------------------------------------------------------------------\n",
    "Output \n",
    "Error msg: cannot concatenate 'str' and 'int' objects"
   ]
  },
  {
   "cell_type": "markdown",
   "metadata": {
    "collapsed": true
   },
   "source": [
    "We shall get back to error handelling later..."
   ]
  },
  {
   "cell_type": "code",
   "execution_count": null,
   "metadata": {
    "collapsed": true
   },
   "outputs": [],
   "source": []
  }
 ],
 "metadata": {
  "celltoolbar": "Raw Cell Format",
  "kernelspec": {
   "display_name": "Python 3",
   "language": "python",
   "name": "python3"
  },
  "language_info": {
   "codemirror_mode": {
    "name": "ipython",
    "version": 3
   },
   "file_extension": ".py",
   "mimetype": "text/x-python",
   "name": "python",
   "nbconvert_exporter": "python",
   "pygments_lexer": "ipython3",
   "version": "3.3.5"
  }
 },
 "nbformat": 4,
 "nbformat_minor": 0
}
